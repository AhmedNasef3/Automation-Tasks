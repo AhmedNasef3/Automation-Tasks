{
 "cells": [
  {
   "cell_type": "code",
   "execution_count": 2,
   "id": "e900ef6c-2e8b-42e4-8ba3-98049458a0e2",
   "metadata": {},
   "outputs": [
    {
     "name": "stdout",
     "output_type": "stream",
     "text": [
      "7896 days\n"
     ]
    }
   ],
   "source": [
    "# The difference in days between two dates\n",
    "\n",
    "from datetime import date\n",
    "\n",
    "\n",
    "def numOfDays(date1, date2):\n",
    "\n",
    "    if date2 > date1: \n",
    "        return (date2-date1).days\n",
    "    else:\n",
    "        return (date1-date2).days\n",
    "\n",
    "\n",
    "\n",
    "date1 = date(2024, 10, 9)\n",
    "date2 = date(2003, 2, 26)\n",
    "print(numOfDays(date1, date2), \"days\")"
   ]
  }
 ],
 "metadata": {
  "kernelspec": {
   "display_name": "Python 3 (ipykernel)",
   "language": "python",
   "name": "python3"
  },
  "language_info": {
   "codemirror_mode": {
    "name": "ipython",
    "version": 3
   },
   "file_extension": ".py",
   "mimetype": "text/x-python",
   "name": "python",
   "nbconvert_exporter": "python",
   "pygments_lexer": "ipython3",
   "version": "3.10.9"
  }
 },
 "nbformat": 4,
 "nbformat_minor": 5
}
