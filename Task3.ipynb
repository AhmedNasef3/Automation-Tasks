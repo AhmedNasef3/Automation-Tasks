{
 "cells": [
  {
   "cell_type": "code",
   "execution_count": 2,
   "id": "b8e0ffab-73b4-4b1a-ad86-c812e111ee2e",
   "metadata": {},
   "outputs": [
    {
     "name": "stdout",
     "output_type": "stream",
     "text": [
      "Welcome to bmi calculator\n"
     ]
    },
    {
     "name": "stdin",
     "output_type": "stream",
     "text": [
      "Enter your weight in kg :  74\n",
      "Enter your height in meters :  1.82\n"
     ]
    },
    {
     "name": "stdout",
     "output_type": "stream",
     "text": [
      "your bmi is : 22.34\n",
      "You have a normal weight.\n"
     ]
    }
   ],
   "source": [
    "# Calculate BMI\n",
    "\n",
    "def bmi_calculator(w,h):\n",
    "    bmi=round(w/(h**2),2)\n",
    "    print(f\"your bmi is : {bmi}\")\n",
    "    if bmi < 18.5:\n",
    "        print(\"You are underweight.\")\n",
    "    elif 18.5 <= bmi <= 24.9:\n",
    "        print(\"You have a normal weight.\")\n",
    "    elif 25 <= bmi <= 29.9:\n",
    "        print(\"You are overweight.\")\n",
    "    else:\n",
    "        print(\"You are obese.\")\n",
    "    \n",
    "    \n",
    "    \n",
    "print(\"Welcome to bmi calculator\")\n",
    "weight=float(input(\"Enter your weight in kg : \"))\n",
    "height=float(input(\"Enter your height in meters : \"))\n",
    "bmi_calculator(weight,height)\n"
   ]
  }
 ],
 "metadata": {
  "kernelspec": {
   "display_name": "Python 3 (ipykernel)",
   "language": "python",
   "name": "python3"
  },
  "language_info": {
   "codemirror_mode": {
    "name": "ipython",
    "version": 3
   },
   "file_extension": ".py",
   "mimetype": "text/x-python",
   "name": "python",
   "nbconvert_exporter": "python",
   "pygments_lexer": "ipython3",
   "version": "3.10.9"
  }
 },
 "nbformat": 4,
 "nbformat_minor": 5
}
