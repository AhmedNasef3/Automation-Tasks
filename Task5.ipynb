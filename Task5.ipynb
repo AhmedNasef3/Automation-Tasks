{
 "cells": [
  {
   "cell_type": "code",
   "execution_count": 1,
   "id": "7538dbfb-0999-4995-96f2-2f198cb79c82",
   "metadata": {},
   "outputs": [
    {
     "name": "stdin",
     "output_type": "stream",
     "text": [
      "Enter your birth year :  2003\n",
      "Enter your birth month :  02\n",
      "Enter your birth day :  26\n"
     ]
    },
    {
     "name": "stdout",
     "output_type": "stream",
     "text": [
      "21 years\n"
     ]
    }
   ],
   "source": [
    "# Calculate your age in years\n",
    "\n",
    "from datetime import date\n",
    " \n",
    "def calculateAge(birthDate):\n",
    "    days_in_year = 365.2425   \n",
    "    age = int((date.today() - birthDate).days / days_in_year)\n",
    "    return age\n",
    "         \n",
    "y=int(input(\"Enter your birth year : \"))\n",
    "m=int(input(\"Enter your birth month : \"))\n",
    "d=int(input(\"Enter your birth day : \"))\n",
    "print(calculateAge(date(y, m, d)), \"years\")"
   ]
  }
 ],
 "metadata": {
  "kernelspec": {
   "display_name": "Python 3 (ipykernel)",
   "language": "python",
   "name": "python3"
  },
  "language_info": {
   "codemirror_mode": {
    "name": "ipython",
    "version": 3
   },
   "file_extension": ".py",
   "mimetype": "text/x-python",
   "name": "python",
   "nbconvert_exporter": "python",
   "pygments_lexer": "ipython3",
   "version": "3.10.9"
  }
 },
 "nbformat": 4,
 "nbformat_minor": 5
}
