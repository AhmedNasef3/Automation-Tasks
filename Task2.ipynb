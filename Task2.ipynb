{
 "cells": [
  {
   "cell_type": "code",
   "execution_count": 6,
   "id": "d3d89260-d1ea-47fa-b9ea-8aaf63e4d096",
   "metadata": {},
   "outputs": [
    {
     "name": "stdout",
     "output_type": "stream",
     "text": [
      "\u001b[33mAhmed Wael\n"
     ]
    }
   ],
   "source": [
    "# Print colored text\n",
    "\n",
    "from colorama import Fore, Back, Style\n",
    "def colored_text(sen):\n",
    "    print(Fore.YELLOW + sen)\n",
    "\n",
    "colored_text(\"Ahmed Wael\")"
   ]
  }
 ],
 "metadata": {
  "kernelspec": {
   "display_name": "Python 3 (ipykernel)",
   "language": "python",
   "name": "python3"
  },
  "language_info": {
   "codemirror_mode": {
    "name": "ipython",
    "version": 3
   },
   "file_extension": ".py",
   "mimetype": "text/x-python",
   "name": "python",
   "nbconvert_exporter": "python",
   "pygments_lexer": "ipython3",
   "version": "3.10.9"
  }
 },
 "nbformat": 4,
 "nbformat_minor": 5
}
