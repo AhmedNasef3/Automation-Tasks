{
 "cells": [
  {
   "cell_type": "code",
   "execution_count": 3,
   "id": "30ffd87d-96bb-440a-aba2-ae8ba79bb725",
   "metadata": {},
   "outputs": [
    {
     "name": "stdout",
     "output_type": "stream",
     "text": [
      "twelve\n",
      "fifty-eight\n",
      "one hundred and sixty-two\n"
     ]
    }
   ],
   "source": [
    "# Convert number into word\n",
    "\n",
    "from num2words import num2words\n",
    "\n",
    "def num_to_words(n):\n",
    "    print(num2words(n))\n",
    "\n",
    "num_to_words(12)\n",
    "num_to_words(58)\n",
    "num_to_words(162)"
   ]
  }
 ],
 "metadata": {
  "kernelspec": {
   "display_name": "Python 3 (ipykernel)",
   "language": "python",
   "name": "python3"
  },
  "language_info": {
   "codemirror_mode": {
    "name": "ipython",
    "version": 3
   },
   "file_extension": ".py",
   "mimetype": "text/x-python",
   "name": "python",
   "nbconvert_exporter": "python",
   "pygments_lexer": "ipython3",
   "version": "3.10.9"
  }
 },
 "nbformat": 4,
 "nbformat_minor": 5
}
