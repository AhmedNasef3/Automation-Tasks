{
 "cells": [
  {
   "cell_type": "code",
   "execution_count": 1,
   "id": "f1ea54fb-046b-4a06-aaac-c99a2c04a9c4",
   "metadata": {},
   "outputs": [
    {
     "name": "stdin",
     "output_type": "stream",
     "text": [
      "When is your birthday? [YY]  2003\n",
      "When is your birthday? [MM]  02\n",
      "When is your birthday? [DD]  26\n"
     ]
    },
    {
     "name": "stdout",
     "output_type": "stream",
     "text": [
      "227\n"
     ]
    }
   ],
   "source": [
    "from datetime import datetime\n",
    "\n",
    "\n",
    "def get_user_birthday():\n",
    "    year = int(input('When is your birthday? [YY] '))\n",
    "    month = int(input('When is your birthday? [MM] '))\n",
    "    day = int(input('When is your birthday? [DD] '))\n",
    "\n",
    "    birthday = datetime(year,month,day)\n",
    "    return birthday\n",
    "\n",
    "\n",
    "def calculate_dates(birthday):\n",
    "    now = datetime.now()\n",
    "    birthday = datetime(now.year, birthday.month, birthday.day)\n",
    "    return (now.today() - birthday ).days + 1\n",
    "\n",
    "\n",
    "bd = get_user_birthday()\n",
    "c = calculate_dates(bd)\n",
    "print(c)\n"
   ]
  }
 ],
 "metadata": {
  "kernelspec": {
   "display_name": "Python 3 (ipykernel)",
   "language": "python",
   "name": "python3"
  },
  "language_info": {
   "codemirror_mode": {
    "name": "ipython",
    "version": 3
   },
   "file_extension": ".py",
   "mimetype": "text/x-python",
   "name": "python",
   "nbconvert_exporter": "python",
   "pygments_lexer": "ipython3",
   "version": "3.10.9"
  }
 },
 "nbformat": 4,
 "nbformat_minor": 5
}
